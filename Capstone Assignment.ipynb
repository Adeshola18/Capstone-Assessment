{
 "cells": [
  {
   "cell_type": "code",
   "execution_count": 73,
   "id": "55400f35",
   "metadata": {},
   "outputs": [],
   "source": [
    "import numpy as np\n",
    "import pandas as pd\n",
    "import os\n",
    "import matplotlib.pyplot as plt\n",
    "data = pd.read_csv('2008.csv.bz2')"
   ]
  },
  {
   "cell_type": "markdown",
   "id": "b8172d6a",
   "metadata": {},
   "source": [
    "data.info()"
   ]
  },
  {
   "cell_type": "markdown",
   "id": "f01936f9",
   "metadata": {},
   "source": [
    "unique_values_list1 = list(data['Month'].unique())\n",
    "print(unique_values_list1)\n",
    "unique_values_list2 = list(data['DayOfWeek'].unique())\n",
    "print(unique_values_list2)\n",
    "unique_values_list3 = list(data['DayofMonth'].unique())\n",
    "unique_values_list3"
   ]
  },
  {
   "cell_type": "markdown",
   "id": "eaaee3b5",
   "metadata": {},
   "source": []
  },
  {
   "cell_type": "markdown",
   "id": "dd77a488",
   "metadata": {},
   "source": [
    "# QUESTION 1. \n",
    "\n",
    "How many unique carriers are there in our dataset?"
   ]
  },
  {
   "cell_type": "code",
   "execution_count": 25,
   "id": "bd61d0e2",
   "metadata": {},
   "outputs": [
    {
     "data": {
      "text/plain": [
       "20"
      ]
     },
     "execution_count": 25,
     "metadata": {},
     "output_type": "execute_result"
    }
   ],
   "source": [
    "data[\"UniqueCarrier\"].nunique()"
   ]
  },
  {
   "cell_type": "markdown",
   "id": "1fbf0f5c",
   "metadata": {},
   "source": [
    "# Question 2. \n",
    "\n",
    "We have both cancelled and completed flights in the datset. Check if there are more completed or cancelled flights. What is the difference?\n",
    "Hint: Take a look at Cancelled to see the categories and FlightNum column to calculate unique flights for each category."
   ]
  },
  {
   "cell_type": "code",
   "execution_count": 29,
   "id": "a0c114aa",
   "metadata": {},
   "outputs": [
    {
     "data": {
      "text/plain": [
       "64442"
      ]
     },
     "execution_count": 29,
     "metadata": {},
     "output_type": "execute_result"
    }
   ],
   "source": [
    "data['Cancelled'].sum()"
   ]
  },
  {
   "cell_type": "code",
   "execution_count": 193,
   "id": "61abd1a2",
   "metadata": {},
   "outputs": [
    {
     "name": "stdout",
     "output_type": "stream",
     "text": [
      "2324775\n",
      "64442\n"
     ]
    }
   ],
   "source": [
    "# to see the data of the completed flights: \n",
    "completed_flights = data[data['Cancelled'] == 0]\n",
    "\n",
    "comp_flights = data['Cancelled'] == 0\n",
    "print(comp_flights.sum())\n",
    "\n",
    "# to see the data of the cancelled flights: \n",
    "cancelled_flights = data[data['Cancelled'] == 1]\n",
    "\n",
    "canc_flights = data['Cancelled'] == 1\n",
    "print(canc_flights.sum())"
   ]
  },
  {
   "cell_type": "code",
   "execution_count": 189,
   "id": "c21a71f4",
   "metadata": {},
   "outputs": [
    {
     "data": {
      "text/plain": [
       "[2260333]"
      ]
     },
     "execution_count": 189,
     "metadata": {},
     "output_type": "execute_result"
    }
   ],
   "source": [
    "new_data = [comp_flights.sum() - canc_flights.sum()]\n",
    "\n",
    "new_data"
   ]
  },
  {
   "cell_type": "markdown",
   "id": "416b2984",
   "metadata": {},
   "source": [
    "# Question 3. \n",
    "\n",
    "Find a flight with the longest departure delays and a flight with the longest arrival delay. Do they have the same destination airport, and if yes, what is its code?"
   ]
  },
  {
   "cell_type": "code",
   "execution_count": 91,
   "id": "b09d41fe",
   "metadata": {},
   "outputs": [
    {
     "data": {
      "text/html": [
       "<div>\n",
       "<style scoped>\n",
       "    .dataframe tbody tr th:only-of-type {\n",
       "        vertical-align: middle;\n",
       "    }\n",
       "\n",
       "    .dataframe tbody tr th {\n",
       "        vertical-align: top;\n",
       "    }\n",
       "\n",
       "    .dataframe thead th {\n",
       "        text-align: right;\n",
       "    }\n",
       "</style>\n",
       "<table border=\"1\" class=\"dataframe\">\n",
       "  <thead>\n",
       "    <tr style=\"text-align: right;\">\n",
       "      <th></th>\n",
       "      <th>Year</th>\n",
       "      <th>Month</th>\n",
       "      <th>DayofMonth</th>\n",
       "      <th>DayOfWeek</th>\n",
       "      <th>DepTime</th>\n",
       "      <th>CRSDepTime</th>\n",
       "      <th>ArrTime</th>\n",
       "      <th>CRSArrTime</th>\n",
       "      <th>UniqueCarrier</th>\n",
       "      <th>FlightNum</th>\n",
       "      <th>...</th>\n",
       "      <th>TaxiIn</th>\n",
       "      <th>TaxiOut</th>\n",
       "      <th>Cancelled</th>\n",
       "      <th>CancellationCode</th>\n",
       "      <th>Diverted</th>\n",
       "      <th>CarrierDelay</th>\n",
       "      <th>WeatherDelay</th>\n",
       "      <th>NASDelay</th>\n",
       "      <th>SecurityDelay</th>\n",
       "      <th>LateAircraftDelay</th>\n",
       "    </tr>\n",
       "  </thead>\n",
       "  <tbody>\n",
       "    <tr>\n",
       "      <th>0</th>\n",
       "      <td>2008</td>\n",
       "      <td>1</td>\n",
       "      <td>3</td>\n",
       "      <td>4</td>\n",
       "      <td>1343.0</td>\n",
       "      <td>1325</td>\n",
       "      <td>1451.0</td>\n",
       "      <td>1435</td>\n",
       "      <td>WN</td>\n",
       "      <td>588</td>\n",
       "      <td>...</td>\n",
       "      <td>4.0</td>\n",
       "      <td>9.0</td>\n",
       "      <td>0</td>\n",
       "      <td>NaN</td>\n",
       "      <td>0</td>\n",
       "      <td>16.0</td>\n",
       "      <td>0.0</td>\n",
       "      <td>0.0</td>\n",
       "      <td>0.0</td>\n",
       "      <td>0.0</td>\n",
       "    </tr>\n",
       "    <tr>\n",
       "      <th>1</th>\n",
       "      <td>2008</td>\n",
       "      <td>1</td>\n",
       "      <td>3</td>\n",
       "      <td>4</td>\n",
       "      <td>1125.0</td>\n",
       "      <td>1120</td>\n",
       "      <td>1247.0</td>\n",
       "      <td>1245</td>\n",
       "      <td>WN</td>\n",
       "      <td>1343</td>\n",
       "      <td>...</td>\n",
       "      <td>3.0</td>\n",
       "      <td>8.0</td>\n",
       "      <td>0</td>\n",
       "      <td>NaN</td>\n",
       "      <td>0</td>\n",
       "      <td>NaN</td>\n",
       "      <td>NaN</td>\n",
       "      <td>NaN</td>\n",
       "      <td>NaN</td>\n",
       "      <td>NaN</td>\n",
       "    </tr>\n",
       "    <tr>\n",
       "      <th>2</th>\n",
       "      <td>2008</td>\n",
       "      <td>1</td>\n",
       "      <td>3</td>\n",
       "      <td>4</td>\n",
       "      <td>2009.0</td>\n",
       "      <td>2015</td>\n",
       "      <td>2136.0</td>\n",
       "      <td>2140</td>\n",
       "      <td>WN</td>\n",
       "      <td>3841</td>\n",
       "      <td>...</td>\n",
       "      <td>2.0</td>\n",
       "      <td>14.0</td>\n",
       "      <td>0</td>\n",
       "      <td>NaN</td>\n",
       "      <td>0</td>\n",
       "      <td>NaN</td>\n",
       "      <td>NaN</td>\n",
       "      <td>NaN</td>\n",
       "      <td>NaN</td>\n",
       "      <td>NaN</td>\n",
       "    </tr>\n",
       "    <tr>\n",
       "      <th>3</th>\n",
       "      <td>2008</td>\n",
       "      <td>1</td>\n",
       "      <td>3</td>\n",
       "      <td>4</td>\n",
       "      <td>903.0</td>\n",
       "      <td>855</td>\n",
       "      <td>1203.0</td>\n",
       "      <td>1205</td>\n",
       "      <td>WN</td>\n",
       "      <td>3</td>\n",
       "      <td>...</td>\n",
       "      <td>5.0</td>\n",
       "      <td>7.0</td>\n",
       "      <td>0</td>\n",
       "      <td>NaN</td>\n",
       "      <td>0</td>\n",
       "      <td>NaN</td>\n",
       "      <td>NaN</td>\n",
       "      <td>NaN</td>\n",
       "      <td>NaN</td>\n",
       "      <td>NaN</td>\n",
       "    </tr>\n",
       "    <tr>\n",
       "      <th>4</th>\n",
       "      <td>2008</td>\n",
       "      <td>1</td>\n",
       "      <td>3</td>\n",
       "      <td>4</td>\n",
       "      <td>1423.0</td>\n",
       "      <td>1400</td>\n",
       "      <td>1726.0</td>\n",
       "      <td>1710</td>\n",
       "      <td>WN</td>\n",
       "      <td>25</td>\n",
       "      <td>...</td>\n",
       "      <td>6.0</td>\n",
       "      <td>10.0</td>\n",
       "      <td>0</td>\n",
       "      <td>NaN</td>\n",
       "      <td>0</td>\n",
       "      <td>16.0</td>\n",
       "      <td>0.0</td>\n",
       "      <td>0.0</td>\n",
       "      <td>0.0</td>\n",
       "      <td>0.0</td>\n",
       "    </tr>\n",
       "  </tbody>\n",
       "</table>\n",
       "<p>5 rows × 29 columns</p>\n",
       "</div>"
      ],
      "text/plain": [
       "   Year  Month  DayofMonth  DayOfWeek  DepTime  CRSDepTime  ArrTime  \\\n",
       "0  2008      1           3          4   1343.0        1325   1451.0   \n",
       "1  2008      1           3          4   1125.0        1120   1247.0   \n",
       "2  2008      1           3          4   2009.0        2015   2136.0   \n",
       "3  2008      1           3          4    903.0         855   1203.0   \n",
       "4  2008      1           3          4   1423.0        1400   1726.0   \n",
       "\n",
       "   CRSArrTime UniqueCarrier  FlightNum  ... TaxiIn  TaxiOut  Cancelled  \\\n",
       "0        1435            WN        588  ...    4.0      9.0          0   \n",
       "1        1245            WN       1343  ...    3.0      8.0          0   \n",
       "2        2140            WN       3841  ...    2.0     14.0          0   \n",
       "3        1205            WN          3  ...    5.0      7.0          0   \n",
       "4        1710            WN         25  ...    6.0     10.0          0   \n",
       "\n",
       "   CancellationCode  Diverted  CarrierDelay WeatherDelay NASDelay  \\\n",
       "0               NaN         0          16.0          0.0      0.0   \n",
       "1               NaN         0           NaN          NaN      NaN   \n",
       "2               NaN         0           NaN          NaN      NaN   \n",
       "3               NaN         0           NaN          NaN      NaN   \n",
       "4               NaN         0          16.0          0.0      0.0   \n",
       "\n",
       "   SecurityDelay  LateAircraftDelay  \n",
       "0            0.0                0.0  \n",
       "1            NaN                NaN  \n",
       "2            NaN                NaN  \n",
       "3            NaN                NaN  \n",
       "4            0.0                0.0  \n",
       "\n",
       "[5 rows x 29 columns]"
      ]
     },
     "execution_count": 91,
     "metadata": {},
     "output_type": "execute_result"
    }
   ],
   "source": [
    "data.head()"
   ]
  },
  {
   "cell_type": "code",
   "execution_count": 31,
   "id": "8a7b02d4",
   "metadata": {},
   "outputs": [
    {
     "data": {
      "text/plain": [
       "2461.0"
      ]
     },
     "execution_count": 31,
     "metadata": {},
     "output_type": "execute_result"
    }
   ],
   "source": [
    "#data['DepDelay'].max()\n",
    "\n",
    "d#ata['ArrDelay'].max()"
   ]
  },
  {
   "cell_type": "code",
   "execution_count": 27,
   "id": "becd0f46",
   "metadata": {},
   "outputs": [],
   "source": [
    "longest_dep_delay_flight = data.sort_values(by='DepDelay', ascending=False).iloc[0]\n",
    "\n",
    "longest_arr_delay_flight = data.sort_values(by='ArrDelay', ascending=False).iloc[0]\n"
   ]
  },
  {
   "cell_type": "code",
   "execution_count": 97,
   "id": "85b30240",
   "metadata": {},
   "outputs": [],
   "source": [
    "longest_arr_delay_flight = data.sort_values(by='ArrDelay', ascending=False).iloc[0]\n"
   ]
  },
  {
   "cell_type": "code",
   "execution_count": 98,
   "id": "4e24181b",
   "metadata": {},
   "outputs": [
    {
     "name": "stdout",
     "output_type": "stream",
     "text": [
      "The flights with the longest departure and arrival delays have the same destination airport code: MSP\n"
     ]
    }
   ],
   "source": [
    "if longest_dep_delay_flight['Dest'] == longest_arr_delay_flight['Dest']:\n",
    "    print(\"The flights with the longest departure and arrival delays have the same destination airport code:\", longest_dep_delay_flight['Dest'])\n",
    "else:\n",
    "    print(\"The flights with the longest departure and arrival delays have different destination airport codes.\")"
   ]
  },
  {
   "cell_type": "markdown",
   "id": "2ea7762d",
   "metadata": {},
   "source": [
    "# Question 4. \n",
    "\n",
    "Find the carrier that has the greatest number of cancelled flights."
   ]
  },
  {
   "cell_type": "code",
   "execution_count": 34,
   "id": "e1028f07",
   "metadata": {},
   "outputs": [
    {
     "data": {
      "text/plain": [
       "'AA'"
      ]
     },
     "execution_count": 34,
     "metadata": {},
     "output_type": "execute_result"
    }
   ],
   "source": [
    "cancelled_flights = data[data['Cancelled'] == 1]\n",
    "\n",
    "# Count the number of cancelled flights for each carrier\n",
    "cancelled_by_carrier = cancelled_flights['UniqueCarrier'].value_counts()\n",
    "\n",
    "# Find the carrier with the highest number of cancelled flights\n",
    "carrier_with_most_cancellations = cancelled_by_carrier.idxmax()\n",
    "\n",
    "# idxmax method returns a Series with the index of the maximum value for each column\n",
    "\n",
    "carrier_with_most_cancellations"
   ]
  },
  {
   "cell_type": "markdown",
   "id": "831a25f6",
   "metadata": {},
   "source": [
    "# Question 5. \n",
    "\n",
    "Let's examine departure time (DepTime column). Let's see how all flights are distributed by time. For simplicity, consider distribution by hour. Which hour has the highest percentage of flights?\n"
   ]
  },
  {
   "cell_type": "code",
   "execution_count": 35,
   "id": "2bff171a",
   "metadata": {},
   "outputs": [
    {
     "name": "stdout",
     "output_type": "stream",
     "text": [
      "Highest percentage of flights is 6:00, with 6.30% of all flights.\n"
     ]
    }
   ],
   "source": [
    "# Note that this code assumes that the DepTime column is in a 24-hour format (i.e., 0000 to 2359)\n",
    "\n",
    "data['DepTime'] = data['DepTime'].fillna(0).astype(int).astype(str)\n",
    "\n",
    "# Extract the hour from the DepTime column and count the number of flights per hour\n",
    "flights_per_hour = data['DepTime'].apply(lambda x: x[:-2]).value_counts()\n",
    "\n",
    "# Calculate the percentage of flights per hour\n",
    "percentage_per_hour = flights_per_hour / flights_per_hour.sum() * 100\n",
    "\n",
    "# Find the hour with the highest percentage of flights\n",
    "hour_with_highest_percentage = percentage_per_hour.idxmax()\n",
    "\n",
    "# Print the hour and its percentage of flights\n",
    "print(f\"Highest percentage of flights is {hour_with_highest_percentage}:00, with {percentage_per_hour[hour_with_highest_percentage]:.2f}% of all flights.\")"
   ]
  },
  {
   "cell_type": "code",
   "execution_count": null,
   "id": "ec24f7cf",
   "metadata": {},
   "outputs": [],
   "source": []
  },
  {
   "cell_type": "markdown",
   "id": "80004f57",
   "metadata": {},
   "source": [
    "# Question 6. \n",
    "\n",
    "OK, now let's examine cancelled flight distribution by Month. Which Month has the least percentage of cancelled flights?"
   ]
  },
  {
   "cell_type": "code",
   "execution_count": 113,
   "id": "10f81fd2",
   "metadata": {},
   "outputs": [],
   "source": [
    "cancelled_flights = data[data['Cancelled'] == 1]\n",
    "\n",
    "\n",
    "cancelled_by_month = cancelled_flights['Month'].value_counts()\n",
    "\n",
    "\n",
    "percent_cancelled_by_month = cancelled_by_month / cancelled_by_month.sum() * 100\n",
    "\n",
    "\n",
    "month_with_least_cancelled = percent_cancelled_by_month.idxmin()"
   ]
  },
  {
   "cell_type": "code",
   "execution_count": 114,
   "id": "e373ba60",
   "metadata": {},
   "outputs": [
    {
     "data": {
      "text/plain": [
       "4"
      ]
     },
     "execution_count": 114,
     "metadata": {},
     "output_type": "execute_result"
    }
   ],
   "source": [
    "month_with_least_cancelled"
   ]
  },
  {
   "cell_type": "markdown",
   "id": "66e91480",
   "metadata": {},
   "source": [
    "# Question 7. \n",
    "\n",
    "Is there any month that didn't have any cancelled flights at all? Check all that apply."
   ]
  },
  {
   "cell_type": "code",
   "execution_count": 67,
   "id": "a2f90173",
   "metadata": {
    "scrolled": true
   },
   "outputs": [
    {
     "name": "stdout",
     "output_type": "stream",
     "text": [
      "Months with no cancelled flights is[]\n"
     ]
    }
   ],
   "source": [
    "# Group flights by month and count the number of cancelled flights\n",
    "cancelled_by_month = data.groupby('Month')['Cancelled'].sum()\n",
    "\n",
    "# Select the months with zero cancellations\n",
    "no_cancelled_months = cancelled_by_month[cancelled_by_month == 0].index.tolist()\n",
    "\n",
    "print(f\"Months with no cancelled flights is{no_cancelled_months}\")"
   ]
  },
  {
   "cell_type": "code",
   "execution_count": null,
   "id": "706a297d",
   "metadata": {},
   "outputs": [],
   "source": []
  },
  {
   "cell_type": "markdown",
   "id": "537a5608",
   "metadata": {},
   "source": [
    "# Question 8. \n",
    "\n",
    "Find the busiest hour, or in other words, the hour when the number of departed flights reaches its maximum.\n",
    "\n",
    "Hint: Consider only completed flights."
   ]
  },
  {
   "cell_type": "code",
   "execution_count": 70,
   "id": "80af9d95",
   "metadata": {},
   "outputs": [
    {
     "name": "stderr",
     "output_type": "stream",
     "text": [
      "C:\\Users\\LG\\AppData\\Local\\Temp\\ipykernel_2788\\3645990801.py:4: SettingWithCopyWarning: \n",
      "A value is trying to be set on a copy of a slice from a DataFrame.\n",
      "Try using .loc[row_indexer,col_indexer] = value instead\n",
      "\n",
      "See the caveats in the documentation: https://pandas.pydata.org/pandas-docs/stable/user_guide/indexing.html#returning-a-view-versus-a-copy\n",
      "  df_completed['hour'] = df_completed['DepTime'].apply(lambda x: int(str(int(x)).zfill(4)[:2]))\n"
     ]
    },
    {
     "name": "stdout",
     "output_type": "stream",
     "text": [
      "The busiest hour is: 6\n"
     ]
    }
   ],
   "source": [
    "df_completed = data[data['Cancelled'] == 0]\n",
    "\n",
    "# Extract the hour from the DepTime column\n",
    "df_completed['hour'] = df_completed['DepTime'].apply(lambda x: int(str(int(x)).zfill(4)[:2]))\n",
    "\n",
    "# Count the number of completed flights for each hour\n",
    "hourly_counts = df_completed['hour'].value_counts()\n",
    "\n",
    "# Find the hour with the maximum number of completed flights\n",
    "busiest_hour = hourly_counts.idxmax()\n",
    "\n",
    "print(\"The busiest hour is:\", busiest_hour)"
   ]
  },
  {
   "cell_type": "code",
   "execution_count": null,
   "id": "9648736a",
   "metadata": {},
   "outputs": [],
   "source": []
  },
  {
   "cell_type": "markdown",
   "id": "f62f3d04",
   "metadata": {},
   "source": [
    "# Question 9. \n",
    "\n",
    "Since we know the departure hour, it might be interesting to examine the average delay for corresponding hour.\n",
    "Are there any cases, when the planes on average departed earlier than they should have done? And if yes, \n",
    "at what departure hours did it happen?\n",
    "\n",
    "Hint: Consider only completed flights."
   ]
  },
  {
   "cell_type": "code",
   "execution_count": 7,
   "id": "fbd6c147",
   "metadata": {},
   "outputs": [
    {
     "name": "stderr",
     "output_type": "stream",
     "text": [
      "C:\\Users\\LG\\AppData\\Local\\Temp\\ipykernel_12436\\340610647.py:4: SettingWithCopyWarning: \n",
      "A value is trying to be set on a copy of a slice from a DataFrame.\n",
      "Try using .loc[row_indexer,col_indexer] = value instead\n",
      "\n",
      "See the caveats in the documentation: https://pandas.pydata.org/pandas-docs/stable/user_guide/indexing.html#returning-a-view-versus-a-copy\n",
      "  completed_flights['DepHour'] = completed_flights['DepTime'].apply(lambda x: str(int(x)).zfill(4)[:2])\n"
     ]
    },
    {
     "data": {
      "text/plain": [
       "['05', '06']"
      ]
     },
     "execution_count": 7,
     "metadata": {},
     "output_type": "execute_result"
    }
   ],
   "source": [
    "completed_flights = data[data['Cancelled'] == 0]\n",
    "\n",
    "# Convert DepTime column to string and extract the hour\n",
    "completed_flights['DepHour'] = completed_flights['DepTime'].apply(lambda x: str(int(x)).zfill(4)[:2])\n",
    "\n",
    "# The average delay for each hour\n",
    "delay_by_hour = completed_flights.groupby('DepHour')['DepDelay'].agg('mean')\n",
    "\n",
    "# Filter the resulting dataframe to only include the rows where the average delay is negative\n",
    "early_departure_hours = delay_by_hour[delay_by_hour < 0].index.tolist()\n",
    "\n",
    "# calling early departure hour is: \n",
    "early_departure_hours"
   ]
  },
  {
   "cell_type": "code",
   "execution_count": null,
   "id": "9f01bbdb",
   "metadata": {},
   "outputs": [],
   "source": []
  },
  {
   "cell_type": "markdown",
   "id": "9611db22",
   "metadata": {},
   "source": [
    "# Question 10. \n",
    "\n",
    "Considering only the completed flights by the carrier, that you have found in Question 3,\n",
    "find the distribution of these flights by hour. At what time does the greatest number of its planes depart?\n",
    "\n",
    "Hint: Consider all flights."
   ]
  },
  {
   "cell_type": "code",
   "execution_count": 159,
   "id": "c21dfc03",
   "metadata": {},
   "outputs": [
    {
     "name": "stderr",
     "output_type": "stream",
     "text": [
      "C:\\Users\\LG\\AppData\\Local\\Temp\\ipykernel_11132\\1108211845.py:4: SettingWithCopyWarning: \n",
      "A value is trying to be set on a copy of a slice from a DataFrame.\n",
      "Try using .loc[row_indexer,col_indexer] = value instead\n",
      "\n",
      "See the caveats in the documentation: https://pandas.pydata.org/pandas-docs/stable/user_guide/indexing.html#returning-a-view-versus-a-copy\n",
      "  completed_flights['DepHour'] = completed_flights['DepTime'].apply(lambda x: str(int(x)).zfill(4)[:2])\n"
     ]
    }
   ],
   "source": [
    "completed_flights = data[(data['Cancelled'] == 0) & (data['UniqueCarrier'])]\n",
    "\n",
    "# Convert DepTime column to string and extract the hour\n",
    "completed_flights['DepHour'] = completed_flights['DepTime'].apply(lambda x: str(int(x)).zfill(4)[:2])\n",
    "\n",
    "# Count the number of flights for each hour and sort in descending order\n",
    "flight_counts_by_hour = completed_flights['DepHour'].value_counts().sort_values(ascending=False)\n",
    "\n",
    "# Find the hour with the greatest number of planes depart\n",
    "busiest_hour = flight_counts_by_hour.index[0]\n"
   ]
  },
  {
   "cell_type": "code",
   "execution_count": 160,
   "id": "72f8fdea",
   "metadata": {},
   "outputs": [
    {
     "data": {
      "text/plain": [
       "'06'"
      ]
     },
     "execution_count": 160,
     "metadata": {},
     "output_type": "execute_result"
    }
   ],
   "source": [
    "busiest_hour"
   ]
  },
  {
   "cell_type": "code",
   "execution_count": null,
   "id": "ae1c7e84",
   "metadata": {},
   "outputs": [],
   "source": []
  },
  {
   "cell_type": "markdown",
   "id": "264fbcbc",
   "metadata": {},
   "source": [
    "# Question 11. \n",
    "\n",
    "Find top-10 carriers in terms of the number of completed flights (UniqueCarrier column)?\n",
    "\n",
    "Which of the listed below is not in your top-10 list?"
   ]
  },
  {
   "cell_type": "code",
   "execution_count": 71,
   "id": "c590c3f6",
   "metadata": {},
   "outputs": [
    {
     "name": "stdout",
     "output_type": "stream",
     "text": [
      "WN    394586\n",
      "AA    193735\n",
      "OO    188411\n",
      "MQ    158900\n",
      "US    151149\n",
      "UA    149420\n",
      "DL    148358\n",
      "XE    134832\n",
      "NW    121392\n",
      "CO    101618\n",
      "Name: UniqueCarrier, dtype: int64\n"
     ]
    }
   ],
   "source": [
    "completed_flights = data[data['Cancelled'] == 0]\n",
    "\n",
    "top_carriers = completed_flights['UniqueCarrier'].value_counts().nlargest(10)\n",
    "\n",
    "print(top_carriers)"
   ]
  },
  {
   "cell_type": "code",
   "execution_count": null,
   "id": "43d46d8e",
   "metadata": {},
   "outputs": [],
   "source": []
  },
  {
   "cell_type": "markdown",
   "id": "8182c7cc",
   "metadata": {},
   "source": [
    "# Question 12. \n",
    "\n",
    "Plot distributions of flight cancellation reasons (CancellationCode).\n",
    "\n",
    "What is the most frequent reason for flight cancellation? (Use this link to translate codes into reasons)"
   ]
  },
  {
   "cell_type": "code",
   "execution_count": 203,
   "id": "23011614",
   "metadata": {},
   "outputs": [
    {
     "data": {
      "image/png": "[encoded data removed]",
      "text/plain": [
       "<Figure size 640x480 with 1 Axes>"
      ]
     },
     "metadata": {},
     "output_type": "display_data"
    }
   ],
   "source": [
    "\n",
    "\n",
    "# Filter the dataset to only include cancelled flights\n",
    "cancelled_flights = data[data['Cancelled'] == 1]\n",
    "\n",
    "# Count the number of cancelled flights for each cancellation code\n",
    "cancellation_counts = cancelled_flights['CancellationCode'].value_counts()\n",
    "\n",
    "# Create a bar chart of the cancellation reasons and their frequencies\n",
    "cancellation_counts.plot(kind='bar')\n",
    "plt.title('Distribution of Flight Cancellation Reasons')\n",
    "plt.xlabel('Cancellation Reason')\n",
    "plt.ylabel('Number of Cancelled Flights')\n",
    "plt.show()"
   ]
  },
  {
   "cell_type": "code",
   "execution_count": 207,
   "id": "cac98376",
   "metadata": {},
   "outputs": [
    {
     "data": {
      "text/plain": [
       "array([nan, 'A', 'C', 'B', 'D'], dtype=object)"
      ]
     },
     "execution_count": 207,
     "metadata": {},
     "output_type": "execute_result"
    }
   ],
   "source": [
    "data['CancellationCode'].unique()"
   ]
  },
  {
   "cell_type": "code",
   "execution_count": 209,
   "id": "e4001a3e",
   "metadata": {},
   "outputs": [],
   "source": []
  },
  {
   "cell_type": "markdown",
   "id": "5c37b076",
   "metadata": {},
   "source": [
    "# Question 13. \n",
    "\n",
    "Which route is the most frequent, in terms of the number of flights?\n",
    "\n",
    "Hint: Take a look at 'Origin' and 'Dest' features. Consider A->B and B->A directions as different routes)"
   ]
  },
  {
   "cell_type": "code",
   "execution_count": 224,
   "id": "f67f6f3c",
   "metadata": {
    "scrolled": true
   },
   "outputs": [],
   "source": [
    "# Group the data by origin and destination, and count the number of flights for each unique route\n",
    "routes = (data.groupby(['Origin', 'Dest'])\n",
    "                   .size()\n",
    "                   .reset_index(name='count'))\n",
    "\n",
    "# Create a new column that represents the route in reverse order\n",
    "routes['reverse_route'] = routes['Dest'] + routes['Origin']\n",
    "\n",
    "# Concatenate the two route columns to include both directions of each route\n",
    "all_routes = pd.concat([routes[['Origin', 'Dest', 'count']], routes[['Dest', 'Origin', 'count']].rename(columns={'Dest': 'Origin', 'Origin': 'Dest'})])\n",
    "\n",
    "# Find the most frequent route\n",
    "most_frequent_route = all_routes.loc[all_routes['count'].idxmax()]\n"
   ]
  },
  {
   "cell_type": "code",
   "execution_count": null,
   "id": "78458a0b",
   "metadata": {},
   "outputs": [],
   "source": [
    "print(most_frequent_route['Origin']) \n",
    "print(most_frequent_route['Dest'])\n",
    "print(most_frequent_route['count'])"
   ]
  },
  {
   "cell_type": "code",
   "execution_count": null,
   "id": "98baac80",
   "metadata": {},
   "outputs": [],
   "source": []
  },
  {
   "cell_type": "markdown",
   "id": "56dfbaf3",
   "metadata": {},
   "source": [
    "# Question 14. \n",
    "\n",
    "Find top-5 delayed routes (count how many times they were delayed on departure). From all flights on these 5 routes, count all flights with weather conditions contributing to a delay.\n",
    "\n",
    "Hint: consider only positive delays14. "
   ]
  },
  {
   "cell_type": "code",
   "execution_count": 26,
   "id": "2c2336d7",
   "metadata": {},
   "outputs": [],
   "source": [
    "# Filter the dataset to only include flights with positive departure delays\n",
    "delayed_flights = data[data['DepDelay'] > 0]\n",
    "\n",
    "# Group delayed flights by the 'Origin' and 'Dest' columns and count the number of delayed flights for each unique route\n",
    "delayed_routes = (delayed_flights.groupby(['Origin', 'Dest']).size().reset_index(name='DelayedFlights').sort_values('DelayedFlights', ascending=False).head(5))\n",
    "\n",
    "# Create a new dataframe that includes only the flights on the top 5 delayed routes\n",
    " top_delayed_flights = delayed_flights[delayed_flights[['Origin', 'Dest']].apply(lambda x: tuple(x) in set(delayed_routes[['Origin', 'Dest']].apply(tuple, axis=1)), axis=1)]\n",
    "\n",
    "# Filter the new dataframe to only include flights with weather-related cancellation codes and count the number of such flights\n",
    " weather_delayed_flights = top_delayed_flights[top_delayed_flights['CancellationCode'].isin(['B', 'C', 'D'])]\n",
    "\n",
    "# Count the number of weather-related delayed flights on the top 5 routes\n",
    "# num_weather_delayed_flights = len(weather_delayed_flights)\n",
    "\n",
    "#print(\"The top-5 delayed routes (in terms of the number of delayed flights) are:\")\n",
    "# print(delayed_routes)\n",
    "\n",
    "#print(\"\\nOut of all the flights on these routes, there were {} flights with weather conditions contributing to a delay.\".format(num_weather_delayed_flights))\n"
   ]
  },
  {
   "cell_type": "code",
   "execution_count": null,
   "id": "e76bac37",
   "metadata": {},
   "outputs": [],
   "source": [
    "# Filter completed flights with positive delays\n",
    "completed_flights = data[(data.Cancelled == 0) & (data.DepDelay > 0)]\n",
    "\n",
    "# Group the data by route and count the number of delayed flights for each route\n",
    "delayed_routes = completed_flights.groupby(['Origin', 'Dest']).agg({'DepDelay': 'count'}).reset_index()\n",
    "delayed_routes = delayed_routes.rename(columns={'DepDelay': 'NumDelayedFlights'})\n",
    "\n",
    "# Sort the data in descending order by the number of delayed flights and select the top 5 routes\n",
    "top_5_delayed_routes = delayed_routes.sort_values(by='NumDelayedFlights', ascending=False).head(5)\n",
    "\n",
    "# Filter the original DataFrame by the selected top 5 routes and count the number of flights with weather conditions contributing to a delay\n",
    "num_weather_delays = completed_flights[completed_flights[['Origin', 'Dest']].apply(lambda x: tuple(x) in set(top_5_delayed_routes[['Origin', 'Dest']].apply(tuple, axis=1)), axis=1) & (completed_flights.WeatherDelay > 0)].shape[0]\n",
    "\n",
    "# Print the results\n",
    "print('Top 5 delayed routes:')\n",
    "print(top_5_delayed_routes)\n",
    "\n",
    "print('\\nNumber of flights with weather conditions contributing to a delay on the top 5 delayed routes:', num_weather_delays)\n"
   ]
  },
  {
   "cell_type": "code",
   "execution_count": null,
   "id": "5c053502",
   "metadata": {},
   "outputs": [],
   "source": []
  },
  {
   "cell_type": "markdown",
   "id": "eb29a4bd",
   "metadata": {},
   "source": [
    "# Question 15. \n",
    "\n",
    "Examine the hourly distribution of departure times. For that, create a new series from DepTime, removing missing values.\n",
    "\n",
    "Choose all correct statements:"
   ]
  },
  {
   "cell_type": "code",
   "execution_count": 64,
   "id": "b271d102",
   "metadata": {},
   "outputs": [],
   "source": [
    "# Create a new series from DepTime, removing missing values\n",
    "dep_time = data['DepTime'].dropna()\n",
    "\n",
    "# Convert the hour to an integer\n",
    "dep_hour = dep_time.apply(lambda x: int(str(int(x)).zfill(4)[:2]))\n",
    "\n",
    "# Count the number of occurrences of each hour and sort the results in ascending order\n",
    "hourly_distribution = dep_hour.value_counts().sort_index()\n",
    "\n",
    "print(hourly_distribution)"
   ]
  },
  {
   "cell_type": "code",
   "execution_count": null,
   "id": "5770719d",
   "metadata": {},
   "outputs": [],
   "source": []
  },
  {
   "cell_type": "markdown",
   "id": "a3849280",
   "metadata": {},
   "source": [
    "# Question 16. \n",
    "\n",
    "Show how the number of flights changes through time (on the daily/weekly/monthly basis) and interpret the findings.\n",
    "\n",
    "Hint: Look for official meteorological winter months for the Nothern Hemisphsere.\n",
    "\n",
    "Choose all correct statements:"
   ]
  },
  {
   "cell_type": "code",
   "execution_count": null,
   "id": "1c8966fa",
   "metadata": {},
   "outputs": [],
   "source": []
  },
  {
   "cell_type": "markdown",
   "id": "67be9a00",
   "metadata": {},
   "source": [
    "# Queestion 17.\n",
    "\n",
    "Examine the distribution of cancellation reasons with time. Make a bar plot of cancellation reasons aggregated by months."
   ]
  },
  {
   "cell_type": "code",
   "execution_count": 8,
   "id": "10dda69c",
   "metadata": {},
   "outputs": [
    {
     "data": {
      "image/png": "[encoded data removed]",
      "text/plain": [
       "<Figure size 1000x600 with 1 Axes>"
      ]
     },
     "metadata": {},
     "output_type": "display_data"
    }
   ],
   "source": [
    "import matplotlib.pyplot as plt\n",
    "\n",
    "# create a new dataframe with cancelled flights\n",
    "cancelled_flights = data[data['Cancelled'] == 1]\n",
    "\n",
    "# group cancelled flights by month and cancellation code\n",
    "cancelled_by_month = cancelled_flights.groupby(['Month', 'CancellationCode']).size().reset_index(name='count')\n",
    "\n",
    "# pivot table to reshape data for plotting\n",
    "cancelled_by_month_pivot = cancelled_by_month.pivot(index='Month', columns='CancellationCode', values='count')\n",
    "\n",
    "# plot the bar chart\n",
    "cancelled_by_month_pivot.plot(kind='bar', stacked=True, figsize=(10, 6))\n",
    "\n",
    "# set the title and axis labels\n",
    "plt.title('Cancellation Reasons by Month')\n",
    "plt.xlabel('Month')\n",
    "plt.ylabel('Number of Cancellations')\n",
    "\n",
    "# show the plot\n",
    "plt.show()\n"
   ]
  },
  {
   "cell_type": "code",
   "execution_count": null,
   "id": "a988adc1",
   "metadata": {},
   "outputs": [],
   "source": []
  },
  {
   "cell_type": "markdown",
   "id": "e4994313",
   "metadata": {},
   "source": [
    "# Question 18.\n",
    "\n",
    "Identify the carrier with the greatest number of cancellations due to carrier in the corresponding month from the previous question."
   ]
  },
  {
   "cell_type": "code",
   "execution_count": 20,
   "id": "f1f57a3c",
   "metadata": {},
   "outputs": [
    {
     "name": "stdout",
     "output_type": "stream",
     "text": [
      "The month with the greatest number of cancellations due to Carrier is 4.\n"
     ]
    }
   ],
   "source": [
    "# filter the data for cancellations due to Carrier\n",
    "carrier_cancellations = data[data['CancellationCode'] == 'A']\n",
    "\n",
    "# group by month and sum the cancellations for each month\n",
    "monthly_carrier_cancellations = carrier_cancellations.groupby('Month')['Cancelled'].sum()\n",
    "\n",
    "# find the month with the maximum cancellations due to Carrier\n",
    "max_month = monthly_carrier_cancellations.idxmax()\n",
    "\n",
    "print(f\"The month with the greatest number of cancellations due to Carrier is {max_month}.\")"
   ]
  },
  {
   "cell_type": "code",
   "execution_count": 25,
   "id": "35f8ae0c",
   "metadata": {},
   "outputs": [
    {
     "data": {
      "text/plain": [
       "4"
      ]
     },
     "execution_count": 25,
     "metadata": {},
     "output_type": "execute_result"
    }
   ],
   "source": []
  },
  {
   "cell_type": "markdown",
   "id": "2c108b75",
   "metadata": {},
   "source": [
    "# Question 19.\n",
    "\n",
    "Identify the carrier with the greatest number of cancellations due to carrier in the corresponding month from the previous question."
   ]
  },
  {
   "cell_type": "code",
   "execution_count": 27,
   "id": "aa956f49",
   "metadata": {},
   "outputs": [
    {
     "name": "stdout",
     "output_type": "stream",
     "text": [
      "The carrier with the greatest number of cancellations due to carrier in the corresponding month is AA.\n"
     ]
    }
   ],
   "source": [
    "# filter the data for cancellations due to Carrier and for the month with the greatest number of cancellations due to Carrier\n",
    "max_month = 4  # replace with the month with the greatest number of cancellations due to Carrier found in the previous question\n",
    "carrier_cancellations = data[(data['CancellationCode'] == 'A') & (data['Month'] == max_month)]\n",
    "\n",
    "# group by carrier and sum the cancellations for each carrier\n",
    "carrier_cancellations_count = carrier_cancellations.groupby('UniqueCarrier')['Cancelled'].sum()\n",
    "\n",
    "#  carrier with the greatest number of cancellations due to carrier\n",
    "max_carrier = carrier_cancellations_count.idxmax()\n",
    "\n",
    "print(f\"The carrier with the greatest number of cancellations due to carrier in the corresponding month is {max_carrier}.\")"
   ]
  },
  {
   "cell_type": "code",
   "execution_count": null,
   "id": "b549e0db",
   "metadata": {},
   "outputs": [],
   "source": []
  },
  {
   "cell_type": "markdown",
   "id": "093e2fda",
   "metadata": {},
   "source": [
    "# Question 20.\n",
    "\n",
    "Examine median arrival and departure delays (in time) by carrier. Which carrier has the lowest median delay time for both arrivals and\n",
    "departures? Leave only non-negative values of delay times ('ArrDelay', 'DepDelay'). You can exclude delay time values higher than\n",
    "a corresponding .95 percentile)."
   ]
  },
  {
   "cell_type": "code",
   "execution_count": 30,
   "id": "d02ac0c3",
   "metadata": {},
   "outputs": [
    {
     "name": "stdout",
     "output_type": "stream",
     "text": [
      "The carrier with the lowest median delay time for both arrivals and departures is AQ.\n"
     ]
    }
   ],
   "source": [
    "# Step 1\n",
    "delays = data[['UniqueCarrier', 'ArrDelay', 'DepDelay']]\n",
    "\n",
    "# Step 2\n",
    "delays = delays[(delays['ArrDelay'] >= 0) & (delays['DepDelay'] >= 0)]\n",
    "\n",
    "# Step 3\n",
    "arr_delay_95 = delays['ArrDelay'].quantile(0.95)\n",
    "dep_delay_95 = delays['DepDelay'].quantile(0.95)\n",
    "\n",
    "# Step 4\n",
    "delays = delays[(delays['ArrDelay'] <= arr_delay_95) & (delays['DepDelay'] <= dep_delay_95)]\n",
    "\n",
    "# Step 5\n",
    "median_delays = delays.groupby('UniqueCarrier')[['ArrDelay', 'DepDelay']].median()\n",
    "\n",
    "# Step 6\n",
    "lowest_median_carrier = median_delays[(median_delays['ArrDelay'] == median_delays['ArrDelay'].min()) & (median_delays['DepDelay'] == median_delays['DepDelay'].min())].index[0]\n",
    "\n",
    "print(f\"The carrier with the lowest median delay time for both arrivals and departures is {lowest_median_carrier}.\")\n"
   ]
  },
  {
   "cell_type": "code",
   "execution_count": null,
   "id": "8ef2a4f2",
   "metadata": {},
   "outputs": [],
   "source": []
  },
  {
   "cell_type": "code",
   "execution_count": null,
   "id": "f4655271",
   "metadata": {},
   "outputs": [],
   "source": []
  }
 ],
 "metadata": {
  "kernelspec": {
   "display_name": "Python 3 (ipykernel)",
   "language": "python",
   "name": "python3"
  },
  "language_info": {
   "codemirror_mode": {
    "name": "ipython",
    "version": 3
   },
   "file_extension": ".py",
   "mimetype": "text/x-python",
   "name": "python",
   "nbconvert_exporter": "python",
   "pygments_lexer": "ipython3",
   "version": "3.9.13"
  }
 },
 "nbformat": 4,
 "nbformat_minor": 5
}
